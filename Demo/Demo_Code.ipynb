{
 "cells": [
  {
   "cell_type": "markdown",
   "metadata": {},
   "source": [
    "# Demo Code for Manuscript Submission"
   ]
  },
  {
   "cell_type": "markdown",
   "metadata": {},
   "source": [
    "### Import packages"
   ]
  },
  {
   "cell_type": "code",
   "execution_count": null,
   "metadata": {},
   "outputs": [],
   "source": [
    "import numpy as np\n",
    "import pandas as pd\n",
    "import pickle"
   ]
  },
  {
   "cell_type": "markdown",
   "metadata": {},
   "source": [
    "### Demo for VTVF endpoint"
   ]
  },
  {
   "cell_type": "code",
   "execution_count": null,
   "metadata": {},
   "outputs": [],
   "source": [
    "#Load data\n",
    "import numpy as np\n",
    "data_file = r'../Demo/demo_data_20191219.npz'\n",
    "data = np.load(data_file, allow_pickle = True)\n",
    "if data_file.endswith('.npz'):\n",
    "    data = data['demo_data']\n",
    "# Select the dictionary inside of a numpy array\n",
    "data = data.item()"
   ]
  },
  {
   "cell_type": "markdown",
   "metadata": {},
   "source": [
    "### Plot demo data MAP"
   ]
  },
  {
   "cell_type": "code",
   "execution_count": null,
   "metadata": {},
   "outputs": [],
   "source": [
    "import matplotlib.pyplot as plt\n",
    "\n",
    "'''\n",
    "patient_id and beat_numbers are as follows:\n",
    "10001: 0 to 58 beats, vtvf_label = no event (0), mortality_label = event(1),\n",
    "10015: 0 to 77 beats, vtvf_label = no event (0), mortality_label = no event(0),\n",
    "10020: 0 to 118 beats, vtvf_label = no event (0), mortality_label = np event(0),\n",
    "10032: 0 to 108 beats, vtvf_label = event (1), mortality_label = no event(0),\n",
    "10033: 0 to 98 beats, vtvf_label = event (1), mortality_label = event(1),\n",
    "10037: 0 to 94 beats, vtvf_label = event (1), mortality_label = event(1),\n",
    "'''\n",
    "\n",
    "patient_id = '10001'\n",
    "plt.figure()\n",
    "beat_num = 0\n",
    "plt.plot(data[patient_id][beat_num,:])"
   ]
  },
  {
   "cell_type": "markdown",
   "metadata": {},
   "source": [
    "### Load tsfresh final model data"
   ]
  },
  {
   "cell_type": "code",
   "execution_count": null,
   "metadata": {},
   "outputs": [],
   "source": [
    "# save the model to disk\n",
    "VTVF_input_data = pd.read_excel(r'VTVF_tsfresh_features_demo.xlsx', index_col = 'id')\n",
    "VTVF_input_data.sort_index(inplace=True)\n",
    "VTVF_output_data = pd.read_excel(r'VTVF_labels_demo.xlsx', index_col = 'id')\n",
    "VTVF_output_data.sort_index(inplace=True)\n",
    "Mortality_input_data = pd.read_excel(r'Mortality_tsfresh_features_demo.xlsx', index_col = 'id')\n",
    "Mortality_input_data.sort_index(inplace=True)\n",
    "Mortality_output_data = pd.read_excel(r'Mortality_labels_demo.xlsx', index_col = 'id')\n",
    "Mortality_output_data.sort_index(inplace=True)"
   ]
  },
  {
   "cell_type": "markdown",
   "metadata": {},
   "source": [
    "### Load Models and evaluate output"
   ]
  },
  {
   "cell_type": "code",
   "execution_count": null,
   "metadata": {},
   "outputs": [],
   "source": [
    "#load SVC trained models\n",
    "VTVF_model = pickle.load(open('VTVF_CV1_finalized_model.sav','rb'))\n",
    "Mortalility_model = pickle.load(open('Mortality_CV1_finalized_model.sav','rb'))"
   ]
  },
  {
   "cell_type": "code",
   "execution_count": null,
   "metadata": {},
   "outputs": [],
   "source": [
    "#Get prediction using inputs\n",
    "VTVF_predictions = VTVF_model.predict(VTVF_input_data)\n",
    "Mortalility_predictions = Mortalility_model.predict(Mortality_input_data)"
   ]
  },
  {
   "cell_type": "code",
   "execution_count": null,
   "metadata": {
    "scrolled": true
   },
   "outputs": [],
   "source": [
    "#Evaluate outputs\n",
    "from calc_metrics_v2 import calc_classification_metrics\n",
    "vtvf_conf_mat, vtvf_acc, vtvf_sens, vtvf_spec, vtvf_ppv, vtvf_npv = calc_classification_metrics(VTVF_output_data['true label'].values,VTVF_predictions)\n",
    "Mortalility_conf_mat, Mortalility_acc, Mortalility_sens, Mortalility_spec, Mortalility_ppv, Mortalility_npv = calc_classification_metrics(Mortality_output_data['true label'].values,Mortalility_predictions)"
   ]
  },
  {
   "cell_type": "code",
   "execution_count": null,
   "metadata": {},
   "outputs": [],
   "source": [
    "#Print Results for sample dataset only\n",
    "print('Sample Dataset per beat analysis metrics:\\n')\n",
    "print('vtvf_acc (%): ' + str(round(vtvf_acc*100,1)))\n",
    "print('vtvf_sens (%): ' + str(round(vtvf_sens*100,1)))\n",
    "print('vtvf_spec (%): ' + str(round(vtvf_spec*100,1)))\n",
    "print('vtvf_ppv (%): ' + str(round(vtvf_ppv*100,1)))\n",
    "print('vtvf_npv (%): ' + str(round(vtvf_npv*100,1)))\n",
    "\n",
    "print('\\n----------------------------\\n')\n",
    "\n",
    "print('Mortalility_acc (%): ' + str(round(Mortalility_acc*100,1)))\n",
    "print('Mortalility_sens (%): ' + str(round(Mortalility_sens*100,1)))\n",
    "print('Mortalility_spec (%): ' + str(round(Mortalility_spec*100,1)))\n",
    "print('Mortalility_ppv (%): ' + str(round(Mortalility_ppv*100,1)))\n",
    "print('Mortalility_npv (%): ' + str(round(Mortalility_npv*100,1)))"
   ]
  },
  {
   "cell_type": "code",
   "execution_count": null,
   "metadata": {},
   "outputs": [],
   "source": []
  }
 ],
 "metadata": {
  "kernelspec": {
   "display_name": "Python 3",
   "language": "python",
   "name": "python3"
  },
  "language_info": {
   "codemirror_mode": {
    "name": "ipython",
    "version": 3
   },
   "file_extension": ".py",
   "mimetype": "text/x-python",
   "name": "python",
   "nbconvert_exporter": "python",
   "pygments_lexer": "ipython3",
   "version": "3.7.7"
  }
 },
 "nbformat": 4,
 "nbformat_minor": 2
}
